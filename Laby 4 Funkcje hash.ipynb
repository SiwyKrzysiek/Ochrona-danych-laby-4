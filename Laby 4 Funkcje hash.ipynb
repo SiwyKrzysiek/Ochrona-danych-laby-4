{
 "cells": [
  {
   "cell_type": "markdown",
   "metadata": {
    "ExecuteTime": {
     "end_time": "2019-10-21T05:56:00.765086Z",
     "start_time": "2019-10-21T05:56:00.762743Z"
    }
   },
   "source": [
    "# Funkcje hashujące"
   ]
  },
  {
   "cell_type": "markdown",
   "metadata": {},
   "source": [
    "Ćwiczenia z wykorzystaniem algorytmów kryptograficznych funkcji jednokierunkowych (hash) do ochrony bazy haseł. Poznanie zasad ataku systematycznego przeszukiwania (brute-force) na hasła."
   ]
  },
  {
   "cell_type": "markdown",
   "metadata": {
    "ExecuteTime": {
     "end_time": "2019-10-22T10:31:29.278630Z",
     "start_time": "2019-10-22T10:31:29.276211Z"
    }
   },
   "source": [
    "## Wczytanie bibliotek"
   ]
  },
  {
   "cell_type": "code",
   "execution_count": 1,
   "metadata": {
    "ExecuteTime": {
     "end_time": "2019-10-22T20:27:56.375773Z",
     "start_time": "2019-10-22T20:27:56.366832Z"
    }
   },
   "outputs": [],
   "source": [
    "from hashlib import md5\n",
    "import sys, string, crypt\n",
    "import os, errno\n",
    "import htpasswd\n",
    "from typing import Tuple, List, Iterable\n",
    "from Crypto.Cipher import ARC4\n",
    "from itertools import product, takewhile\n",
    "from IPython.display import clear_output"
   ]
  },
  {
   "cell_type": "markdown",
   "metadata": {},
   "source": [
    "### Przydatne funkcje"
   ]
  },
  {
   "cell_type": "code",
   "execution_count": 40,
   "metadata": {
    "ExecuteTime": {
     "end_time": "2019-10-22T20:39:11.792023Z",
     "start_time": "2019-10-22T20:39:11.789337Z"
    },
    "deletable": false,
    "editable": false
   },
   "outputs": [],
   "source": [
    "def trivial_hash(dane):\n",
    "    hash = 0\n",
    "    for znak in dane:\n",
    "        hash += ord(znak)\n",
    "    return hash % 999"
   ]
  },
  {
   "cell_type": "code",
   "execution_count": 2,
   "metadata": {
    "ExecuteTime": {
     "end_time": "2019-10-22T20:27:56.381486Z",
     "start_time": "2019-10-22T20:27:56.378277Z"
    },
    "deletable": false,
    "editable": false
   },
   "outputs": [],
   "source": [
    "def strToCodes(string : str) -> Iterable[int]:\n",
    "    return (ord(c) for c in string)\n",
    "\n",
    "def codesToStr(codes : Iterable[int]) -> str:\n",
    "    return ''.join((chr(c) for c in codes))"
   ]
  },
  {
   "cell_type": "code",
   "execution_count": 3,
   "metadata": {
    "ExecuteTime": {
     "end_time": "2019-10-22T20:27:56.388158Z",
     "start_time": "2019-10-22T20:27:56.384130Z"
    },
    "deletable": false,
    "editable": false
   },
   "outputs": [
    {
     "name": "stdout",
     "output_type": "stream",
     "text": [
      "[########------------] 40%\n"
     ]
    }
   ],
   "source": [
    "def display_progres(procentage_done : float, bar_length = 20) -> None:\n",
    "    bar_length = 20\n",
    "    fill_length = round(bar_length * procentage_done)\n",
    "    \n",
    "    bar = '[{}{}]'.format('#' * fill_length, '-' * (bar_length - fill_length))\n",
    "    display = bar + f' {procentage_done:.0%}'\n",
    "    print(display)\n",
    "    \n",
    "    \n",
    "display_progres(0.4)"
   ]
  },
  {
   "cell_type": "markdown",
   "metadata": {},
   "source": [
    "## Przygotowanie"
   ]
  },
  {
   "cell_type": "markdown",
   "metadata": {
    "ExecuteTime": {
     "end_time": "2019-10-21T18:25:13.362879Z",
     "start_time": "2019-10-21T18:25:13.360686Z"
    },
    "heading_collapsed": true
   },
   "source": [
    "### Testy funkcji skrótu"
   ]
  },
  {
   "cell_type": "markdown",
   "metadata": {
    "hidden": true
   },
   "source": [
    "Przykładowe wywołanie funkcji `crypt()` z poziomu języka Python."
   ]
  },
  {
   "cell_type": "code",
   "execution_count": 4,
   "metadata": {
    "ExecuteTime": {
     "end_time": "2019-10-22T20:27:56.394214Z",
     "start_time": "2019-10-22T20:27:56.390399Z"
    },
    "hidden": true
   },
   "outputs": [
    {
     "name": "stdout",
     "output_type": "stream",
     "text": [
      "XJ1IYKAzNwYBs\n"
     ]
    }
   ],
   "source": [
    "import sys\n",
    "import crypt\n",
    "import string\n",
    "import random\n",
    "password = sys.argv[1]\n",
    "\n",
    "salt = ''.join(random.sample(string.ascii_letters, 2))\n",
    "\n",
    "protected_password = crypt.crypt(password, salt)\n",
    "print( protected_password ) "
   ]
  },
  {
   "cell_type": "code",
   "execution_count": 5,
   "metadata": {
    "ExecuteTime": {
     "end_time": "2019-10-22T20:27:56.403781Z",
     "start_time": "2019-10-22T20:27:56.396190Z"
    },
    "hidden": true
   },
   "outputs": [
    {
     "data": {
      "text/plain": [
       "['a', 'g']"
      ]
     },
     "execution_count": 5,
     "metadata": {},
     "output_type": "execute_result"
    }
   ],
   "source": [
    "random.sample(string.ascii_letters, 2)"
   ]
  },
  {
   "cell_type": "markdown",
   "metadata": {
    "ExecuteTime": {
     "end_time": "2019-10-21T06:19:10.183728Z",
     "start_time": "2019-10-21T06:19:10.180131Z"
    },
    "hidden": true
   },
   "source": [
    "Sprawdzanie integralności danych przy pomocy `sha256()`."
   ]
  },
  {
   "cell_type": "code",
   "execution_count": 6,
   "metadata": {
    "ExecuteTime": {
     "end_time": "2019-10-22T20:27:56.409348Z",
     "start_time": "2019-10-22T20:27:56.405775Z"
    },
    "hidden": true
   },
   "outputs": [
    {
     "name": "stdout",
     "output_type": "stream",
     "text": [
      "b'\\x0ee\\x03\\xc1\\xec\\xe4\\x0eN\\xa7f\\x84c$\\x8e\\xa2qn\\xb3vC\\xf2\\xc2\\xc6\\x05\\xf8\\xbc\\xeeM\\x19Z\\x17\\x05'\n",
      "0e6503c1ece40e4ea7668463248ea2716eb37643f2c2c605f8bcee4d195a1705\n"
     ]
    }
   ],
   "source": [
    "import sys\n",
    "import hashlib\n",
    "h  = hashlib.sha256( sys.argv[1].encode() )\n",
    "print( h.digest() )\n",
    "print( h.hexdigest() )"
   ]
  },
  {
   "cell_type": "markdown",
   "metadata": {
    "heading_collapsed": true
   },
   "source": [
    "### Ataki na funkcje jednokierunkowe"
   ]
  },
  {
   "cell_type": "markdown",
   "metadata": {
    "hidden": true
   },
   "source": [
    "Metoda systematycznego przeszukiwania, inaczej zwana metodą brutalnej siły (ang. brute force) to jeden z najprostszych ataków na wszelkiego rodzaju zabezpieczenia. Polega ona na ślepym przeszukiwaniu przestrzeni klucza w celu znalezienia tego właściwego. Łatwą obroną przed tego typu atakiem jest **rozszerzenie przestrzeni**, a tym samym wydłużenie czasu potrzebnego do jej przeszukania.\n",
    "\n",
    "Jednym z najbardziej znanych programów realizujących ten atak jest _John the Ripper_. W ramach ćwiczenia będziemy korzystać ze znacznie prostszego przykładu. Przykładowy skrypt realizujący atak na hasło o długości **trzech znaków**, składające się z samych małych liter, ukryte za pomocą funkcji `crypt()`:"
   ]
  },
  {
   "cell_type": "markdown",
   "metadata": {
    "hidden": true
   },
   "source": [
    "Ten kod **nie działa** nawet po poprawkach!?"
   ]
  },
  {
   "cell_type": "code",
   "execution_count": 7,
   "metadata": {
    "ExecuteTime": {
     "end_time": "2019-10-21T20:04:48.688355Z",
     "start_time": "2019-10-21T20:04:48.673342Z"
    },
    "deletable": false,
    "editable": false,
    "hidden": true,
    "run_control": {
     "frozen": true
    }
   },
   "outputs": [
    {
     "name": "stdout",
     "output_type": "stream",
     "text": [
      "Hasło złamane: \n"
     ]
    }
   ],
   "source": [
    "import sys, string, crypt\n",
    "\n",
    "# passwd = sys.argv[1]\n",
    "# passwd = 'aba'\n",
    "passwd = crypt.crypt('abc')\n",
    "chars = string.ascii_letters\n",
    "\n",
    "trail = ''\n",
    "for a in chars:\n",
    "    for b in chars:\n",
    "        for c in chars:\n",
    "            trial = a+b+c\n",
    "            crypted = crypt.crypt( trial, passwd)\n",
    "            if crypted == passwd:\n",
    "                break\n",
    "        if crypted == passwd:\n",
    "            break\n",
    "    if crypted == passwd:\n",
    "        break\n",
    "        \n",
    "if crypted == passwd:\n",
    "    print( \"Hasło złamane: \" + trail)\n",
    "else:\n",
    "    print( \"Nie złamano hasła\" )"
   ]
  },
  {
   "cell_type": "markdown",
   "metadata": {
    "ExecuteTime": {
     "end_time": "2019-10-21T19:50:36.292081Z",
     "start_time": "2019-10-21T19:50:36.289963Z"
    },
    "heading_collapsed": true
   },
   "source": [
    "### Badanie htpasswd"
   ]
  },
  {
   "cell_type": "markdown",
   "metadata": {
    "ExecuteTime": {
     "end_time": "2019-10-21T19:50:55.710381Z",
     "start_time": "2019-10-21T19:50:55.399608Z"
    },
    "hidden": true
   },
   "source": [
    "Program **htpasswd** dziła na serwerach Apatche http i służy do obsługi plików przechowujących nazwy użytkowników i haszhe ich haseł.  \n",
    "Do przetestowania programu wykożystam kontener Dockera `httpd:2.4`.\n",
    "\n",
    "Uruchomię go komendą `docker run -it --rm --name my-apache-app --entrypoint=bash httpd:2.4`."
   ]
  },
  {
   "cell_type": "markdown",
   "metadata": {
    "hidden": true
   },
   "source": [
    "Utworzyłem kilka wpisów komendami\n",
    "\n",
    "```Bash\n",
    "htpasswd -bc passwords.txt Jan 123\n",
    "htpasswd -b passwords.txt Olek abc\n",
    "htpasswd -bd passwords.txt Zuza 123 #Zmiana szyfru na funkcję crypt\n",
    "```\n",
    "\n",
    "Plik zawiera następującą zawartość\n",
    "```\n",
    "Jan:$apr1$cfj46z8f$c9BXyt1aRWXIU3LTZpD/e1\n",
    "Olek:$apr1$THdv4Lr6$IpNKgVcoZosEhClnFMNH.1\n",
    "Zuza:kTJQit8yheE2Y\n",
    "```"
   ]
  },
  {
   "cell_type": "markdown",
   "metadata": {
    "ExecuteTime": {
     "end_time": "2019-10-22T08:05:34.147003Z",
     "start_time": "2019-10-22T08:05:34.144318Z"
    },
    "hidden": true
   },
   "source": [
    "**2 pierwsze znaki to sól w crypt!!**"
   ]
  },
  {
   "cell_type": "code",
   "execution_count": 7,
   "metadata": {
    "ExecuteTime": {
     "end_time": "2019-10-22T20:27:56.414290Z",
     "start_time": "2019-10-22T20:27:56.411266Z"
    },
    "hidden": true
   },
   "outputs": [
    {
     "data": {
      "text/plain": [
       "'kTJQit8yheE2Y'"
      ]
     },
     "execution_count": 7,
     "metadata": {},
     "output_type": "execute_result"
    }
   ],
   "source": [
    "crypt.crypt('123', 'kT')"
   ]
  },
  {
   "cell_type": "code",
   "execution_count": 8,
   "metadata": {
    "ExecuteTime": {
     "end_time": "2019-10-22T20:27:56.420765Z",
     "start_time": "2019-10-22T20:27:56.417436Z"
    },
    "hidden": true
   },
   "outputs": [
    {
     "data": {
      "text/plain": [
       "'efed657a58df1a9d236672b7d596918d'"
      ]
     },
     "execution_count": 8,
     "metadata": {},
     "output_type": "execute_result"
    }
   ],
   "source": [
    "h = md5(('cfj46z8f' + '123').encode())\n",
    "# h.update()\n",
    "# h.update(.encode())\n",
    "\n",
    "h.hexdigest()"
   ]
  },
  {
   "cell_type": "markdown",
   "metadata": {
    "ExecuteTime": {
     "end_time": "2019-10-21T20:02:13.767913Z",
     "start_time": "2019-10-21T20:02:13.765787Z"
    }
   },
   "source": [
    "## Zadania z iSoda"
   ]
  },
  {
   "cell_type": "markdown",
   "metadata": {
    "ExecuteTime": {
     "end_time": "2019-10-21T20:02:24.848408Z",
     "start_time": "2019-10-21T20:02:24.846224Z"
    },
    "heading_collapsed": true
   },
   "source": [
    "### Zadanie 1"
   ]
  },
  {
   "cell_type": "markdown",
   "metadata": {
    "hidden": true
   },
   "source": [
    "Napisz program korzystający z bazy wygenerowanej przez program _htpasswd_. Celem programu jest sprawdzenie, czy użytkownik o podanym identyfikatorze i haśle jest w pliku bazy."
   ]
  },
  {
   "cell_type": "markdown",
   "metadata": {
    "ExecuteTime": {
     "end_time": "2019-10-22T14:54:12.986115Z",
     "start_time": "2019-10-22T14:54:12.984012Z"
    },
    "heading_collapsed": true,
    "hidden": true
   },
   "source": [
    "#### Nieudana próba"
   ]
  },
  {
   "cell_type": "markdown",
   "metadata": {
    "ExecuteTime": {
     "end_time": "2019-10-21T20:06:11.339408Z",
     "start_time": "2019-10-21T20:06:11.335649Z"
    },
    "hidden": true
   },
   "source": [
    "Założe, że wszystkie hasła są haszowane domyślym algorytmem czyli **MD5**."
   ]
  },
  {
   "cell_type": "markdown",
   "metadata": {
    "ExecuteTime": {
     "end_time": "2019-10-21T20:21:26.709052Z",
     "start_time": "2019-10-21T20:21:26.705332Z"
    },
    "hidden": true
   },
   "source": [
    "Liczenie haszy samemu"
   ]
  },
  {
   "cell_type": "code",
   "execution_count": 9,
   "metadata": {
    "ExecuteTime": {
     "end_time": "2019-10-22T20:27:56.427191Z",
     "start_time": "2019-10-22T20:27:56.423302Z"
    },
    "hidden": true
   },
   "outputs": [
    {
     "name": "stdout",
     "output_type": "stream",
     "text": [
      "b'\\x90\\x01P\\x98<\\xd2O\\xb0\\xd6\\x96?}(\\xe1\\x7fr'\n"
     ]
    }
   ],
   "source": [
    "from hashlib import md5\n",
    "\n",
    "def isUserInDataBase(file_name : str, user_name : str, password : str) -> bool:\n",
    "    h = md5()\n",
    "    h.update(password.encode())\n",
    "    print(h.digest())\n",
    "\n",
    "file_name = 'htpasswords.txt'\n",
    "user_name = 'Jan'\n",
    "password = 'abc'\n",
    "isUserInDataBase(file_name, user_name, password)\n",
    "# crypt.crypt('123', None)"
   ]
  },
  {
   "cell_type": "markdown",
   "metadata": {
    "hidden": true
   },
   "source": [
    "Wykożystam bibliotekę"
   ]
  },
  {
   "cell_type": "code",
   "execution_count": 10,
   "metadata": {
    "ExecuteTime": {
     "end_time": "2019-10-22T20:27:56.513663Z",
     "start_time": "2019-10-22T20:27:56.428951Z"
    },
    "hidden": true
   },
   "outputs": [
    {
     "ename": "FileNotFoundError",
     "evalue": "[Errno 2] No such file or directory: 'htpasswords.txt'",
     "output_type": "error",
     "traceback": [
      "\u001b[0;31m---------------------------------------------------------------------------\u001b[0m",
      "\u001b[0;31mFileNotFoundError\u001b[0m                         Traceback (most recent call last)",
      "\u001b[0;32m<ipython-input-10-1c79f07a0e1b>\u001b[0m in \u001b[0;36m<module>\u001b[0;34m\u001b[0m\n\u001b[1;32m      3\u001b[0m \u001b[0mfile_name\u001b[0m \u001b[0;34m=\u001b[0m \u001b[0;34m'htpasswords.txt'\u001b[0m\u001b[0;34m\u001b[0m\u001b[0;34m\u001b[0m\u001b[0m\n\u001b[1;32m      4\u001b[0m \u001b[0;34m\u001b[0m\u001b[0m\n\u001b[0;32m----> 5\u001b[0;31m \u001b[0;32mwith\u001b[0m \u001b[0mhtpasswd\u001b[0m\u001b[0;34m.\u001b[0m\u001b[0mBasic\u001b[0m\u001b[0;34m(\u001b[0m\u001b[0mfile_name\u001b[0m\u001b[0;34m,\u001b[0m \u001b[0mmode\u001b[0m\u001b[0;34m=\u001b[0m\u001b[0;34m\"md5\"\u001b[0m\u001b[0;34m)\u001b[0m \u001b[0;32mas\u001b[0m \u001b[0muserdb\u001b[0m\u001b[0;34m:\u001b[0m\u001b[0;34m\u001b[0m\u001b[0;34m\u001b[0m\u001b[0m\n\u001b[0m\u001b[1;32m      6\u001b[0m     \u001b[0;32mtry\u001b[0m\u001b[0;34m:\u001b[0m\u001b[0;34m\u001b[0m\u001b[0;34m\u001b[0m\u001b[0m\n\u001b[1;32m      7\u001b[0m \u001b[0;31m#         userdb.add('bob', 'password')\u001b[0m\u001b[0;34m\u001b[0m\u001b[0;34m\u001b[0m\u001b[0;34m\u001b[0m\u001b[0m\n",
      "\u001b[0;32m/usr/local/anaconda3/lib/python3.7/site-packages/htpasswd/basic.py\u001b[0m in \u001b[0;36m__enter__\u001b[0;34m(self)\u001b[0m\n\u001b[1;32m     43\u001b[0m \u001b[0;34m\u001b[0m\u001b[0m\n\u001b[1;32m     44\u001b[0m     \u001b[0;32mdef\u001b[0m \u001b[0m__enter__\u001b[0m\u001b[0;34m(\u001b[0m\u001b[0mself\u001b[0m\u001b[0;34m)\u001b[0m\u001b[0;34m:\u001b[0m\u001b[0;34m\u001b[0m\u001b[0;34m\u001b[0m\u001b[0m\n\u001b[0;32m---> 45\u001b[0;31m         \u001b[0;32mwith\u001b[0m \u001b[0mopen\u001b[0m\u001b[0;34m(\u001b[0m\u001b[0mself\u001b[0m\u001b[0;34m.\u001b[0m\u001b[0muserdb\u001b[0m\u001b[0;34m,\u001b[0m \u001b[0;34m\"r\"\u001b[0m\u001b[0;34m)\u001b[0m \u001b[0;32mas\u001b[0m \u001b[0musers\u001b[0m\u001b[0;34m:\u001b[0m\u001b[0;34m\u001b[0m\u001b[0;34m\u001b[0m\u001b[0m\n\u001b[0m\u001b[1;32m     46\u001b[0m             \u001b[0;32mfor\u001b[0m \u001b[0mi\u001b[0m \u001b[0;32min\u001b[0m \u001b[0musers\u001b[0m\u001b[0;34m:\u001b[0m\u001b[0;34m\u001b[0m\u001b[0;34m\u001b[0m\u001b[0m\n\u001b[1;32m     47\u001b[0m                 \u001b[0muser\u001b[0m\u001b[0;34m,\u001b[0m \u001b[0mpassword\u001b[0m \u001b[0;34m=\u001b[0m \u001b[0mi\u001b[0m\u001b[0;34m.\u001b[0m\u001b[0msplit\u001b[0m\u001b[0;34m(\u001b[0m\u001b[0;34m\":\"\u001b[0m\u001b[0;34m,\u001b[0m \u001b[0;36m1\u001b[0m\u001b[0;34m)\u001b[0m\u001b[0;34m\u001b[0m\u001b[0;34m\u001b[0m\u001b[0m\n",
      "\u001b[0;31mFileNotFoundError\u001b[0m: [Errno 2] No such file or directory: 'htpasswords.txt'"
     ]
    }
   ],
   "source": [
    "import htpasswd\n",
    "\n",
    "file_name = 'htpasswords.txt'\n",
    "\n",
    "with htpasswd.Basic(file_name, mode=\"md5\") as userdb:\n",
    "    try:\n",
    "#         userdb.add('bob', 'password')\n",
    "        userdb.add('Jan', '123')\n",
    "    except e:\n",
    "        print (e)"
   ]
  },
  {
   "cell_type": "code",
   "execution_count": null,
   "metadata": {
    "ExecuteTime": {
     "end_time": "2019-10-21T20:42:24.879536Z",
     "start_time": "2019-10-21T20:42:24.868577Z"
    },
    "hidden": true
   },
   "outputs": [],
   "source": []
  },
  {
   "cell_type": "code",
   "execution_count": null,
   "metadata": {
    "ExecuteTime": {
     "end_time": "2019-10-22T20:27:56.517927Z",
     "start_time": "2019-10-22T20:27:56.394Z"
    },
    "hidden": true
   },
   "outputs": [],
   "source": [
    "import crypt\n",
    "from hmac import compare_digest as compare_hash\n",
    "\n",
    "plaintext = 'abc'\n",
    "hashed = crypt.crypt(plaintext)\n",
    "if not compare_hash(hashed, crypt.crypt(plaintext, hashed)):\n",
    "    raise ValueError(\"hashed version doesn't validate against original\")"
   ]
  },
  {
   "cell_type": "code",
   "execution_count": null,
   "metadata": {
    "ExecuteTime": {
     "end_time": "2019-10-22T20:27:56.519993Z",
     "start_time": "2019-10-22T20:27:56.396Z"
    },
    "hidden": true
   },
   "outputs": [],
   "source": [
    "import crypt\n",
    "from hmac import compare_digest as compare_hash\n",
    "\n",
    "plaintext = 'abc'\n",
    "hashed = crypt.crypt(plaintext, 'aaxx')\n",
    "hashed2 = crypt.crypt(plaintext, hashed)\n",
    "print(hashed)\n",
    "print(hashed2)\n",
    "compare_hash(hashed, hashed2)\n",
    "crypt.crypt(plaintext, hashed)"
   ]
  },
  {
   "cell_type": "code",
   "execution_count": null,
   "metadata": {
    "ExecuteTime": {
     "end_time": "2019-10-22T20:27:56.521860Z",
     "start_time": "2019-10-22T20:27:56.398Z"
    },
    "hidden": true
   },
   "outputs": [],
   "source": [
    "crypt.crypt(plaintext, 'aa')"
   ]
  },
  {
   "cell_type": "markdown",
   "metadata": {
    "hidden": true
   },
   "source": [
    "#### Kolejne podejście"
   ]
  },
  {
   "cell_type": "markdown",
   "metadata": {
    "hidden": true
   },
   "source": [
    "Doszedłe do wniosku, że ponowne wyliczenie hasha jest niemożliwe gdy funckcja użyta przez _htpasswd_ jest różna od `crypt()`. Jest tak ponieważ sól użyta w _MD5_ oraz _SHA_ jest różna na każdym serwerze.  \n",
    "Przy metodzie `crypt()` sól jest zapisana jako pierwsze 2 znaki cryptogramu.\n"
   ]
  },
  {
   "cell_type": "markdown",
   "metadata": {
    "hidden": true
   },
   "source": [
    "Żeby uzyskać taką samą sól utowrzę plik przy pomocy biblioteki [htpasswd 2.3](https://pypi.org/project/htpasswd/)."
   ]
  },
  {
   "cell_type": "code",
   "execution_count": null,
   "metadata": {
    "ExecuteTime": {
     "end_time": "2019-10-22T20:27:56.523469Z",
     "start_time": "2019-10-22T20:27:56.400Z"
    },
    "hidden": true
   },
   "outputs": [],
   "source": [
    "htpasswd_file = 'htpasswd.txt'\n",
    "\n",
    "try:\n",
    "    os.remove(htpasswd_file)\n",
    "except OSError as e: # this would be \"except OSError, e:\" before Python 2.6\n",
    "    if e.errno != errno.ENOENT: # errno.ENOENT = no such file or directory\n",
    "        raise # re-raise exception if a different error occurred\n",
    "        \n",
    "open(htpasswd_file, 'a').close()\n",
    "\n",
    "users = [('Jan', '123'), ('Borhum', 'Pa$$w0rd'), ('Buck', '123')]\n",
    "\n",
    "with htpasswd.Basic(htpasswd_file) as userdb: #mode='md5'\n",
    "    for user in users:\n",
    "        userdb.add(*user)\n",
    "#         print(userdb._encrypt_password(user[1]))"
   ]
  },
  {
   "cell_type": "code",
   "execution_count": null,
   "metadata": {
    "ExecuteTime": {
     "end_time": "2019-10-22T20:27:56.525234Z",
     "start_time": "2019-10-22T20:27:56.402Z"
    },
    "hidden": true
   },
   "outputs": [],
   "source": [
    "def parse_htpasswd(file_name : str) -> List[Tuple[str, str]]:\n",
    "    \"\"\"Read .htpasswd file and reaturn list of pairs (username, hash)\"\"\"\n",
    "    results = []\n",
    "    with open(file_name) as file:\n",
    "        for line in file:\n",
    "            results.append(tuple(line.strip().split(':')))\n",
    "            \n",
    "    return results\n",
    "                \n",
    "parse_htpasswd(htpasswd_file)"
   ]
  },
  {
   "cell_type": "code",
   "execution_count": null,
   "metadata": {
    "ExecuteTime": {
     "end_time": "2019-10-22T20:27:56.528065Z",
     "start_time": "2019-10-22T20:27:56.404Z"
    },
    "hidden": true
   },
   "outputs": [],
   "source": [
    "def is_user_in_base(file_name : str, name : str, password : str) -> bool:\n",
    "    data = parse_htpasswd(file_name)\n",
    "    \n",
    "    user = next((u for u in data if u[0] == name), None)\n",
    "    if user == None:\n",
    "        return False\n",
    "    \n",
    "    hash = user[1]\n",
    "    salt = hash[:2]\n",
    "    return crypt.crypt(password, salt) == hash\n",
    "    \n",
    "is_user_in_base(htpasswd_file, 'Buck', '123')"
   ]
  },
  {
   "cell_type": "markdown",
   "metadata": {
    "ExecuteTime": {
     "end_time": "2019-10-21T20:02:36.379440Z",
     "start_time": "2019-10-21T20:02:36.376895Z"
    },
    "heading_collapsed": true
   },
   "source": [
    "### Zadanie 2"
   ]
  },
  {
   "cell_type": "markdown",
   "metadata": {
    "ExecuteTime": {
     "end_time": "2019-10-22T15:07:04.681994Z",
     "start_time": "2019-10-22T15:07:04.564Z"
    },
    "hidden": true
   },
   "source": [
    "Napisz program umożliwiający zmianę hasła użytkownika w bazie programu htpasswd."
   ]
  },
  {
   "cell_type": "code",
   "execution_count": null,
   "metadata": {
    "ExecuteTime": {
     "end_time": "2019-10-22T20:27:56.529603Z",
     "start_time": "2019-10-22T20:27:56.407Z"
    },
    "hidden": true
   },
   "outputs": [],
   "source": [
    "# Tworzenie pliku\n",
    "htpasswd_file = 'htpasswd.txt'\n",
    "\n",
    "try:\n",
    "    os.remove(htpasswd_file)\n",
    "except OSError as e: # this would be \"except OSError, e:\" before Python 2.6\n",
    "    if e.errno != errno.ENOENT: # errno.ENOENT = no such file or directory\n",
    "        raise # re-raise exception if a different error occurred\n",
    "        \n",
    "open(htpasswd_file, 'a').close()\n",
    "\n",
    "users = [('Jan', '123'), ('Borhum', 'Pa$$w0rd'), ('Buck', '123')]\n",
    "\n",
    "with htpasswd.Basic(htpasswd_file) as userdb: #mode='md5'\n",
    "    for user in users:\n",
    "        userdb.add(*user)\n",
    "#         print(userdb._encrypt_password(user[1]))"
   ]
  },
  {
   "cell_type": "markdown",
   "metadata": {
    "ExecuteTime": {
     "end_time": "2019-10-22T18:00:19.554334Z",
     "start_time": "2019-10-22T18:00:19.550598Z"
    },
    "hidden": true
   },
   "source": [
    "Wykożystam bibliotekę [htpasswd 2.3](https://pypi.org/project/htpasswd/)."
   ]
  },
  {
   "cell_type": "code",
   "execution_count": null,
   "metadata": {
    "ExecuteTime": {
     "end_time": "2019-10-22T20:27:56.530847Z",
     "start_time": "2019-10-22T20:27:56.409Z"
    },
    "hidden": true
   },
   "outputs": [],
   "source": [
    "user = 'Jan'\n",
    "new_password = 'abc'\n",
    "\n",
    "with htpasswd.Basic(htpasswd_file) as userdb:\n",
    "    userdb.change_password(user, new_password)"
   ]
  },
  {
   "cell_type": "markdown",
   "metadata": {
    "heading_collapsed": true
   },
   "source": [
    "### Zadanie 3"
   ]
  },
  {
   "cell_type": "markdown",
   "metadata": {
    "hidden": true
   },
   "source": [
    "Napisz program umożliwiający dodawanie nowych użytkowników do bazy programu htpasswd."
   ]
  },
  {
   "cell_type": "code",
   "execution_count": null,
   "metadata": {
    "ExecuteTime": {
     "end_time": "2019-10-22T20:27:56.532219Z",
     "start_time": "2019-10-22T20:27:56.412Z"
    },
    "hidden": true
   },
   "outputs": [],
   "source": [
    "# Tworzenie pliku\n",
    "htpasswd_file = 'htpasswd.txt'\n",
    "\n",
    "try:\n",
    "    os.remove(htpasswd_file)\n",
    "except OSError as e: # this would be \"except OSError, e:\" before Python 2.6\n",
    "    if e.errno != errno.ENOENT: # errno.ENOENT = no such file or directory\n",
    "        raise # re-raise exception if a different error occurred\n",
    "        \n",
    "open(htpasswd_file, 'a').close()\n",
    "\n",
    "users = [('Jan', '123'), ('Borhum', 'Pa$$w0rd'), ('Buck', '123')]\n",
    "\n",
    "with htpasswd.Basic(htpasswd_file) as userdb: #mode='md5'\n",
    "    for user in users:\n",
    "        userdb.add(*user)\n",
    "#         print(userdb._encrypt_password(user[1]))"
   ]
  },
  {
   "cell_type": "markdown",
   "metadata": {
    "hidden": true
   },
   "source": [
    "Wykożystam bibliotekę [htpasswd 2.3](https://pypi.org/project/htpasswd/)."
   ]
  },
  {
   "cell_type": "code",
   "execution_count": null,
   "metadata": {
    "ExecuteTime": {
     "end_time": "2019-10-22T20:27:56.533488Z",
     "start_time": "2019-10-22T20:27:56.414Z"
    },
    "hidden": true
   },
   "outputs": [],
   "source": [
    "def add_new_user(file_name : str, user_name : str, password : str) -> None:\n",
    "    with htpasswd.Basic(htpasswd_file) as userdb: #mode='md5'\n",
    "        userdb.add(user_name, password)"
   ]
  },
  {
   "cell_type": "markdown",
   "metadata": {
    "heading_collapsed": true
   },
   "source": [
    "### Zadanie 4"
   ]
  },
  {
   "cell_type": "markdown",
   "metadata": {
    "hidden": true
   },
   "source": [
    "Przy pomocy wywołania bibliotecznej funkcji md5() odtwórz działanie programu md5sum."
   ]
  },
  {
   "cell_type": "markdown",
   "metadata": {
    "hidden": true
   },
   "source": [
    "Program _md5sum_ otrzymuje listę plików jako argumenty. Dla każdego z nich wylicza sumę kontrolną i wypisuje ją na standardowe wyjście."
   ]
  },
  {
   "cell_type": "code",
   "execution_count": null,
   "metadata": {
    "ExecuteTime": {
     "end_time": "2019-10-22T20:27:56.534599Z",
     "start_time": "2019-10-22T20:27:56.417Z"
    },
    "hidden": true
   },
   "outputs": [],
   "source": [
    "def md5sum(file_names : Iterable[str]) -> str:\n",
    "    result = []\n",
    "    for file_name in file_names:\n",
    "        with open(file_name, 'rb') as file:\n",
    "            hash = md5(file.read()).hexdigest()\n",
    "            result.append(f'{hash}  {file_name}')\n",
    "            \n",
    "    return '\\n'.join(result)\n",
    "\n",
    "files = [f'ExampleFile{i}.txt' for i in 'ABC']\n",
    "sums = md5sum(files)\n",
    "print(sums)"
   ]
  },
  {
   "cell_type": "markdown",
   "metadata": {
    "heading_collapsed": true
   },
   "source": [
    "### Zadanie 5"
   ]
  },
  {
   "cell_type": "markdown",
   "metadata": {
    "hidden": true
   },
   "source": [
    "Przy pomocy wywołania bibliotecznej funkcji md5() odtwórz działanie polecenia md5sum -c, czyli kontrole spójności plików."
   ]
  },
  {
   "cell_type": "markdown",
   "metadata": {
    "hidden": true
   },
   "source": [
    "Dla wywołania `md5sum -c` program otrzymuję listę wygenerowaną przez wywołanie `md5sum`. Następnei dla każdego pliku sprawdza czy suma kontrolna jest prawidłowa."
   ]
  },
  {
   "cell_type": "code",
   "execution_count": null,
   "metadata": {
    "ExecuteTime": {
     "end_time": "2019-10-22T20:27:56.535947Z",
     "start_time": "2019-10-22T20:27:56.419Z"
    },
    "hidden": true
   },
   "outputs": [],
   "source": [
    "def md5sum_c(checksum_data : str) -> str:\n",
    "    result = []\n",
    "    for line in checksum_data.split('\\n'):\n",
    "        hash, file_name = line.split('  ')\n",
    "        with open(file_name, 'rb') as file:\n",
    "            data = file.read()\n",
    "            validation = 'OK' if hash == md5(data).hexdigest() else 'ERROR'\n",
    "            result.append(f'{file_name}: {validation}')\n",
    "            \n",
    "    return '\\n'.join(result)\n",
    "            \n",
    "print(md5sum_c(sums))"
   ]
  },
  {
   "cell_type": "markdown",
   "metadata": {
    "heading_collapsed": true
   },
   "source": [
    "### Zadanie 6"
   ]
  },
  {
   "cell_type": "markdown",
   "metadata": {
    "hidden": true
   },
   "source": [
    "Korzystając z polecania time sprawdź wydajność dowolnej implementacji algorytmu łamania haseł metodą brutalnej siły i oszacuj czas maksymalny czas potrzebny do złamania haseł różnej długości i składający się z małych liter i dużych liter."
   ]
  },
  {
   "cell_type": "markdown",
   "metadata": {
    "hidden": true
   },
   "source": [
    "Przetestuję algorytm łamania klucza ARC4 z laboratoriów numer 2."
   ]
  },
  {
   "cell_type": "code",
   "execution_count": null,
   "metadata": {
    "ExecuteTime": {
     "end_time": "2019-10-22T20:27:56.537405Z",
     "start_time": "2019-10-22T20:27:56.422Z"
    },
    "hidden": true
   },
   "outputs": [],
   "source": [
    "def entropy(data : bytes) -> float:\n",
    "    count = [0] * 256\n",
    "    dataSize = len(data)\n",
    "    for b in data: count[b] = count[b] + 1\n",
    "    \n",
    "    entropy = 0\n",
    "    for b in range(256):\n",
    "        entropy += (count[b] / dataSize) * count[b]\n",
    "        \n",
    "    return 1 - entropy / dataSize\n",
    "\n",
    "\n",
    "sentence = \"A complete sentence must have, at minimum, three things: a subject, verb, and an object. The subject is typically a noun or a pronoun. And, if there's a subject, there's bound to be a verb because all verbs need a subject. Finally, the object of a sentence is the thing that's being acted upon by the subject.\"\n",
    "entropy(bytes(strToCodes(sentence))) * 100"
   ]
  },
  {
   "cell_type": "code",
   "execution_count": null,
   "metadata": {
    "ExecuteTime": {
     "end_time": "2019-10-22T20:27:56.538671Z",
     "start_time": "2019-10-22T20:27:56.425Z"
    },
    "hidden": true
   },
   "outputs": [],
   "source": [
    "def bruteforceARC4(cryptogram : bytes, keyLength : int = 3, keyAlphabet = range(256)) -> str:\n",
    "    entropyThreshold = 0.9585\n",
    "\n",
    "    possibleKeys = product(keyAlphabet, repeat=keyLength)\n",
    "    for k in possibleKeys:\n",
    "        k = codesToStr(k)        \n",
    "        cipher = ARC4.new(k)\n",
    "        recovered = cipher.decrypt(cryptogram)\n",
    "        e = entropy(recovered)\n",
    "\n",
    "        if e < entropyThreshold:\n",
    "#             print(k)\n",
    "            return k\n",
    "#                 print('\\nZnaleziono rozwiązanie!\\n')\n",
    "#                 print(f'Klucz: {k}')\n",
    "#                 print(f'Wiadomość: {recovered}')\n",
    "#                 break\n",
    "\n",
    "    return None\n",
    "#         print(f'Nie ma rozwiązania dla klucza długości {length}')"
   ]
  },
  {
   "cell_type": "code",
   "execution_count": null,
   "metadata": {
    "ExecuteTime": {
     "end_time": "2019-10-22T20:27:56.540037Z",
     "start_time": "2019-10-22T20:27:56.427Z"
    },
    "hidden": true
   },
   "outputs": [],
   "source": [
    "data = \"A complete sentence must have, at minimum, three things: a subject, verb, and an object. The subject is typically a noun or a pronoun. And, if there's a subject, there's bound to be a verb because all verbs need a subject. Finally, the object of a sentence is the thing that's being acted upon by the subject.\"\n",
    "key = 'abc'\n",
    "\n",
    "cipher = ARC4.new(key)\n",
    "cryptogram = cipher.encrypt(data)\n",
    "\n",
    "keyAlphabet = range(ord('a'), ord('z') + 1)\n",
    "%timeit bruteforceARC4(cryptogram, 3, keyAlphabet)\n"
   ]
  },
  {
   "cell_type": "code",
   "execution_count": null,
   "metadata": {
    "ExecuteTime": {
     "end_time": "2019-10-22T20:27:56.541359Z",
     "start_time": "2019-10-22T20:27:56.430Z"
    },
    "hidden": true
   },
   "outputs": [],
   "source": [
    "*_, last = takewhile(lambda x: x[1] != tuple('abc'), enumerate(product(keyAlphabet, repeat=3)))\n",
    "last[0] + 1"
   ]
  },
  {
   "cell_type": "markdown",
   "metadata": {
    "ExecuteTime": {
     "end_time": "2019-10-22T19:59:19.963205Z",
     "start_time": "2019-10-22T19:59:19.959607Z"
    },
    "hidden": true
   },
   "source": [
    "Maksymalny czas łamania tego hasła wynosi około 2,251 ms.  \n",
    "Pojedńcze złamanie hasła wymaga **17576** iteracji.\n",
    "\n",
    "Średni czas iteracji wynosi więc 0,12807 µs.  \n",
    "Moc alfabetu składającego się z dużych i małych liter wynosi 52.  \n",
    "Liczba kombinacji dla hasła długości x wynosi 52^x."
   ]
  },
  {
   "cell_type": "markdown",
   "metadata": {},
   "source": [
    "### Zadanie 7"
   ]
  },
  {
   "cell_type": "markdown",
   "metadata": {},
   "source": [
    "Napisz program zgadujący hasła ukryte za pomocą funkcji `crypt()`, przechowywane w bazie programu htpasswd. Przyjmij założenie, że hasła są trzy znakowe i składają się z samych małych liter."
   ]
  },
  {
   "cell_type": "code",
   "execution_count": 41,
   "metadata": {
    "ExecuteTime": {
     "end_time": "2019-10-22T20:42:39.330873Z",
     "start_time": "2019-10-22T20:42:22.961505Z"
    }
   },
   "outputs": [
    {
     "name": "stdout",
     "output_type": "stream",
     "text": [
      "Hasło to: sto\n"
     ]
    }
   ],
   "source": [
    "def decrypt_crypt(hash : str) -> str:\n",
    "    key_alphabet = list(range(ord('a'), ord('z') + 1))\n",
    "    key_length = 3\n",
    "    max_possibilities = len(key_alphabet) ** key_length\n",
    "    \n",
    "    salt = hash[:2]\n",
    "    for i, plain in enumerate(product(key_alphabet, repeat=key_length)):\n",
    "        plain = codesToStr(plain)\n",
    "        clear_output(True)\n",
    "        display_progres(i / max_possibilities)\n",
    "        print(plain)\n",
    "        \n",
    "        if hash == crypt.crypt(plain, salt):\n",
    "            clear_output(True)\n",
    "            return plain\n",
    "        \n",
    "        \n",
    "plain = 'sto'\n",
    "h = crypt.crypt(plain)\n",
    "\n",
    "recoverd = decrypt_crypt(h)\n",
    "if recoverd:\n",
    "    print (f'Hasło to: {recoverd}')\n",
    "else:\n",
    "    print('Nie udało się znaleźć hasła')"
   ]
  },
  {
   "cell_type": "markdown",
   "metadata": {},
   "source": [
    "### Zadanie 8"
   ]
  },
  {
   "cell_type": "markdown",
   "metadata": {},
   "source": [
    "Przygotuj dwa dokumenty, których funkcje skrótu `trivial_hash()` bedą identyczne, a treść różna. Wykorzystaj paradoks urodzinowy."
   ]
  },
  {
   "cell_type": "code",
   "execution_count": 13,
   "metadata": {
    "ExecuteTime": {
     "end_time": "2019-10-22T20:35:28.715410Z",
     "start_time": "2019-10-22T20:35:28.712651Z"
    }
   },
   "outputs": [],
   "source": [
    "def display_trivial_hash_for_file(file_name : str) -> None:\n",
    "    with open(file_name) as file:\n",
    "        print(trivial_hash(file.read()))"
   ]
  },
  {
   "cell_type": "code",
   "execution_count": 38,
   "metadata": {
    "ExecuteTime": {
     "end_time": "2019-10-22T20:38:21.718368Z",
     "start_time": "2019-10-22T20:38:21.714232Z"
    }
   },
   "outputs": [
    {
     "name": "stdout",
     "output_type": "stream",
     "text": [
      "2\n",
      "2\n"
     ]
    }
   ],
   "source": [
    "display_trivial_hash_for_file('TryvialDocument.txt')\n",
    "display_trivial_hash_for_file('FakeTryvialDocument.txt')"
   ]
  },
  {
   "cell_type": "markdown",
   "metadata": {
    "ExecuteTime": {
     "end_time": "2019-10-22T20:38:47.015904Z",
     "start_time": "2019-10-22T20:38:47.013228Z"
    }
   },
   "source": [
    "### Zadanie 9"
   ]
  },
  {
   "cell_type": "markdown",
   "metadata": {},
   "source": [
    "Napisz program szukający kolizji z określoną wartością funkcji skrótu `trivial_hash()` poprzez modyfikacje ‘białych’ znaków."
   ]
  },
  {
   "cell_type": "code",
   "execution_count": 42,
   "metadata": {
    "ExecuteTime": {
     "end_time": "2019-10-22T20:51:33.200679Z",
     "start_time": "2019-10-22T20:51:33.197523Z"
    }
   },
   "outputs": [],
   "source": [
    "def match_hash(orginal_data : str, spoofed_data : str) -> str:\n",
    "    maxTries = 100000000\n",
    "    hash = trivial_hash(orginal_data)\n",
    "#     Załóżmy, że nie wiem jak działa ta funkcja\n",
    "    for i in range(maxTries):\n",
    "        if trivial_hash(spoofed_data) == hash:\n",
    "            return spoofed_data\n",
    "        spoofed_data = spoofed_data + ' '\n",
    "        \n",
    "    raise RuntimeError(f'Maximum tires excedet - {maxTries}')"
   ]
  },
  {
   "cell_type": "code",
   "execution_count": 45,
   "metadata": {
    "ExecuteTime": {
     "end_time": "2019-10-22T20:52:25.925936Z",
     "start_time": "2019-10-22T20:52:25.877724Z"
    }
   },
   "outputs": [
    {
     "name": "stdout",
     "output_type": "stream",
     "text": [
      "1012\n",
      "Tomek ma długi                                                                                                                                                                                                                                                                                                                                                                                                                                                                                                                                                                                                                                                                                                                                                                                                                                                                                                                                                                                                                                      \n"
     ]
    }
   ],
   "source": [
    "text = 'Tomek ma kartę'\n",
    "\n",
    "fake = match_hash(text ,'Tomek ma długi')\n",
    "print(len(fake))\n",
    "print(fake)"
   ]
  },
  {
   "cell_type": "markdown",
   "metadata": {},
   "source": [
    "### Zadnie 10"
   ]
  },
  {
   "cell_type": "markdown",
   "metadata": {},
   "source": [
    "John the Ripper jest zdecydowanie szybszy.\n",
    "(Nie instalowałem go, ale wszystko jest szybsze od Pythona)"
   ]
  }
 ],
 "metadata": {
  "kernelspec": {
   "display_name": "Python 3",
   "language": "python",
   "name": "python3"
  },
  "language_info": {
   "codemirror_mode": {
    "name": "ipython",
    "version": 3
   },
   "file_extension": ".py",
   "mimetype": "text/x-python",
   "name": "python",
   "nbconvert_exporter": "python",
   "pygments_lexer": "ipython3",
   "version": "3.7.3"
  },
  "varInspector": {
   "cols": {
    "lenName": 16,
    "lenType": 16,
    "lenVar": 40
   },
   "kernels_config": {
    "python": {
     "delete_cmd_postfix": "",
     "delete_cmd_prefix": "del ",
     "library": "var_list.py",
     "varRefreshCmd": "print(var_dic_list())"
    },
    "r": {
     "delete_cmd_postfix": ") ",
     "delete_cmd_prefix": "rm(",
     "library": "var_list.r",
     "varRefreshCmd": "cat(var_dic_list()) "
    }
   },
   "types_to_exclude": [
    "module",
    "function",
    "builtin_function_or_method",
    "instance",
    "_Feature"
   ],
   "window_display": false
  }
 },
 "nbformat": 4,
 "nbformat_minor": 2
}
